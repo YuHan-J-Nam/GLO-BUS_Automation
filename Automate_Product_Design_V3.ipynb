{
 "cells": [
  {
   "cell_type": "markdown",
   "metadata": {},
   "source": [
    "## Required Libraries"
   ]
  },
  {
   "cell_type": "code",
   "execution_count": 1,
   "metadata": {},
   "outputs": [],
   "source": [
    "# Load libraries\n",
    "import os, sys\n",
    "import logging\n",
    "# import threading\n",
    "import itertools\n",
    "from iteration_utilities import random_product\n",
    "from tqdm.notebook import tqdm\n",
    "import concurrent.futures\n",
    "import time\n",
    "\n",
    "import numpy as np\n",
    "import pandas as pd\n",
    "import polars as pl\n",
    "\n",
    "# import dask.bag as db\n",
    "# import dask.dataframe as dd\n",
    "# from dask import delayed\n",
    "\n",
    "from selenium import webdriver\n",
    "from selenium.webdriver.edge.options import Options\n",
    "from selenium.webdriver.edge.service import Service\n",
    "from selenium.webdriver.common.by import By\n",
    "from selenium.webdriver.support.ui import WebDriverWait, Select\n",
    "from selenium.webdriver.support import expected_conditions as EC"
   ]
  },
  {
   "cell_type": "code",
   "execution_count": 2,
   "metadata": {},
   "outputs": [
    {
     "name": "stdout",
     "output_type": "stream",
     "text": [
      "Python implementation: CPython\n",
      "Python version       : 3.11.11\n",
      "IPython version      : 8.30.0\n",
      "\n",
      "numpy   : 1.26.4\n",
      "pandas  : 2.2.3\n",
      "polars  : 1.24.0\n",
      "dask    : 2025.2.0\n",
      "selenium: 4.24.0\n",
      "\n"
     ]
    }
   ],
   "source": [
    "# Show all package versions\n",
    "%load_ext watermark\n",
    "%watermark -v -p numpy,pandas,polars,dask,selenium"
   ]
  },
  {
   "cell_type": "markdown",
   "metadata": {},
   "source": [
    "## Configuration and Credentials"
   ]
  },
  {
   "cell_type": "code",
   "execution_count": 3,
   "metadata": {},
   "outputs": [],
   "source": [
    "# Configure logging\n",
    "logging.basicConfig(level=logging.INFO)\n",
    "\n",
    "# Retrieve credentials from environment variables or use defaults\n",
    "GLOBUS_USER = os.getenv(\"GLOBUS_USER\", \"won103203@naver.com\")\n",
    "GLOBUS_PW = os.getenv(\"GLOBUS_PW\", \"goTeamC@1\")\n",
    "\n",
    "# Path to Microsoft Edge WebDriver\n",
    "edge_driver_path = \"C:/Users/yuhan/Downloads/edgedriver_win64/msedgedriver.exe\"\n",
    "\n",
    "# Edge options\n",
    "edge_options = Options()\n",
    "# Uncomment the following line to run in headless mode (recommended for automation)\n",
    "# edge_options.add_argument('--headless')\n",
    "edge_options.add_argument('--no-sandbox')\n",
    "edge_options.add_argument('--disable-dev-shm-usage')"
   ]
  },
  {
   "cell_type": "markdown",
   "metadata": {},
   "source": [
    "## Product Design Option Generator"
   ]
  },
  {
   "cell_type": "markdown",
   "metadata": {},
   "source": [
    "### a. Helper functions to generate combinations of product design options"
   ]
  },
  {
   "cell_type": "code",
   "execution_count": 4,
   "metadata": {},
   "outputs": [],
   "source": [
    "def calculate_number_of_possible_options(params_dict):\n",
    "    \"\"\"\n",
    "    Returns the number of possible options for a given parameter dictionary.\n",
    "    \"\"\"\n",
    "    # Calculate the number of options\n",
    "    return np.prod([len(v) for v in params_dict.values()])\n",
    "\n",
    "def fix_design_choices(design_dict, fix_values_dict):\n",
    "    \"\"\"\n",
    "    design_dict: 디자인 선택지 딕셔너리\n",
    "    fix_values_dict: 고정할 선택지 딕셔너리\n",
    "    design_dict에서 fix_values_dict의 key에 해당하는 선택지를 values로 고정\n",
    "    새로운 선택지 딕셔너리를 반환\n",
    "    \"\"\"\n",
    "    new_design_dict = design_dict.copy()\n",
    "    for key, value in fix_values_dict.items():\n",
    "        new_design_dict[key] = [value]\n",
    "    return new_design_dict"
   ]
  },
  {
   "cell_type": "markdown",
   "metadata": {},
   "source": [
    "### b. Base dictionary for all product design options"
   ]
  },
  {
   "cell_type": "code",
   "execution_count": 5,
   "metadata": {},
   "outputs": [
    {
     "name": "stdout",
     "output_type": "stream",
     "text": [
      "Number of Action-Capture Camera Design Options: 1073356574\n",
      "Number of UAV Drone Design Options: 162570240\n"
     ]
    }
   ],
   "source": [
    "# Define Product Design Options for Action-Capture Camera and UAV Drone\n",
    "action_capture_camera_design_dict = {\n",
    "    ('Image Sensor Size', 'G4-btn'): ['8mm', '9mm', '10mm', '11mm', '12mm', '13mm', '14mm'],\n",
    "    ('LCD Display Screen', 'G5-btn'): ['230k', '460k', '610k', '920k', '1040k', '1230k', '2360k'],\n",
    "    ('Image Quality', 'G6-btn'): ['1920×1080', '1920×1440', '2704×1520', '2704×2028', '3840×2160', '3840×2400', '4096×2160'],\n",
    "    ('Number of Photo Modes', 'G7-btn'): ['4 / 3', '6 / 3', '7 / 3', '8 / 3', '10 / 4', '12 / 4', '16 / 4'],\n",
    "    ('Camera Housing', 'G9-btn'): ['4', '5', '6', '7', '8', '9', '10', '11', '12', '13', '14', '15', '16'],\n",
    "    ('Editing / Sharing Capabilities', 'G10-btn'): ['4', '5', '6', '7', '8', '9', '10', '11', '12', '13', '14', '15', '16'],\n",
    "    ('Included Accessories', 'G11-btn'): ['6', '7', '8', '9', '10', '11', '12', '13', '14', '15', '16', '17', '18', '19', '20'],\n",
    "    ('Extra Performance Features', 'G13-btn'): ['2', '3', '4', '5', '6', '7', '8', '9', '10'],\n",
    "    ('Number of Action Capture Camera Models', 'G14-btn'): ['1', '2', '3', '4', '5', '6', '7'],\n",
    "    ('Product R&D Expenditures', 'G16-btn'): ['0', '3000', '6000', '9000', '12000', '16000', '20000', '24000', '28000', '32000', '36000', '40000', '45000', '50000']\n",
    "}\n",
    "\n",
    "uav_drone_design_dict = {\n",
    "    ('Built-In Camera', 'G22-btn'): ['No Upgrade', 'Minor Upgrade', 'Significant Upgrade', 'Major Upgrade'],\n",
    "    ('GPS / WiFi / Bluetooth', 'G23-btn'): ['Basic', 'Enhanced', 'Advanced', 'Best Available'],\n",
    "    ('Battery Pack', 'G24-btn'): ['8', '10', '12', '15', '18', '21', '25', '30'],\n",
    "    ('Number of Rotors', 'G25-btn'): ['4', '6', '8'],\n",
    "    ('Rotor Performance / Flight Controller', 'G26-btn'): ['Basic', 'Enhanced', 'Advanced', 'Best Available'],\n",
    "    ('Body Frame Construction', 'G27-btn'): ['High-Strength Plastic', 'g10/FR4 Fiberglass', 'Carbon Fiber'],\n",
    "    ('Obstacle Sensors', 'G28-btn'): ['Front Only', 'Front/Rear', '360° Basic', '360° Enhanced', '360° Advanced', '360° Best Available'],\n",
    "    ('Camera Stabilization Device', 'G29-btn'): ['Basic', 'Enhanced', 'Advanced', 'Best Available'],\n",
    "    ('Extra Performance Features', 'G31-btn'): ['2', '3', '4', '5', '6', '7', '8', '9', '10', '11', '12', '13', '14', '15'],\n",
    "    ('Number of UAV Drone Models', 'G32-btn'): ['1', '2', '3', '4', '5', '6', '7'],\n",
    "    ('Product R&D Expenditures', 'G34-btn'): ['0', '3000', '6000', '9000', '12000', '15000', '18000', '21000', '24000', '27000', '30000', '35000', '40000', '45000', '50000']\n",
    "}\n",
    "\n",
    "# Calculate the number of design options for each product\n",
    "print(f\"Number of Action-Capture Camera Design Options: {calculate_number_of_possible_options(action_capture_camera_design_dict)}\")\n",
    "print(f\"Number of UAV Drone Design Options: {calculate_number_of_possible_options(uav_drone_design_dict)}\")"
   ]
  },
  {
   "cell_type": "markdown",
   "metadata": {},
   "source": [
    "### Action Capture Camera\n",
    "- 하위 3개 조건 다 제거 후 돌리기\n",
    "- Camera Housing: > 13\n",
    "- Editing/Sharing Capabilities > 13\n",
    "- Included Accessories > 13\n",
    "\n",
    "- 단 모델 수는 4개 이하로 제한\n",
    "\n"
   ]
  },
  {
   "cell_type": "markdown",
   "metadata": {},
   "source": [
    "### UAV Drone minimum settings\n",
    "\n",
    "- GPS / Wifi / Basic: Basic unincluded\n",
    "- Rotor Performance/ Flight Controller: Basic unincluded\n",
    "- Battery Pack: 15\n",
    "- Number of Rotors: 8\n",
    "- R&D Expenditures: > 24000"
   ]
  },
  {
   "cell_type": "code",
   "execution_count": 6,
   "metadata": {},
   "outputs": [
    {
     "name": "stdout",
     "output_type": "stream",
     "text": [
      "Number of Action-Capture Camera Design Options (Strategy A): 6144000\n",
      "Number of UAV Drone Design Options (Strategy A): 5702400\n"
     ]
    }
   ],
   "source": [
    "strategy_A_camera_year_6_dict ={\n",
    "    ('Image Sensor Size', 'G4-btn'): ['10mm', '11mm', '12mm', '13mm', '14mm'],\n",
    "    ('LCD Display Screen', 'G5-btn'): ['920k', '1040k', '1230k', '2360k'],\n",
    "    ('Image Quality', 'G6-btn'): ['2704x1520', '2704×2028', '3840×2160', '3840×2400', '4096×2160'],\n",
    "    ('Number of Photo Modes', 'G7-btn'): ['8 / 3', '10 / 4', '12 / 4', '16 / 4'],\n",
    "    ('Camera Housing', 'G9-btn'): ['13', '14', '15', '16'],\n",
    "    ('Editing / Sharing Capabilities', 'G10-btn'): ['13', '14', '15', '16'],\n",
    "    ('Included Accessories', 'G11-btn'): ['13', '14', '15', '16', '17', '18', '19', '20'],\n",
    "    ('Extra Performance Features', 'G13-btn'): ['5', '6', '7', '8', '9', '10'],\n",
    "    ('Number of Action Capture Camera Models', 'G14-btn'): ['1', '2', '3', '4'],\n",
    "    ('Product R&D Expenditures', 'G16-btn'): ['24000', '28000', '32000', '36000', '40000']\n",
    "}\n",
    "\n",
    "strategy_A_drone_year_6_dict = {\n",
    "    ('Built-In Camera', 'G22-btn'): ['No Upgrade', 'Minor Upgrade', 'Significant Upgrade', 'Major Upgrade'],\n",
    "    ('GPS / WiFi / Bluetooth', 'G23-btn'): ['Enhanced', 'Advanced', 'Best Available'],\n",
    "    ('Battery Pack', 'G24-btn'): ['15', '18', '21', '25', '30'],\n",
    "    ('Number of Rotors', 'G25-btn'): ['4', '6', '8'],\n",
    "    ('Rotor Performance / Flight Controller', 'G26-btn'): ['Basic', 'Enhanced', 'Advanced', 'Best Available'],\n",
    "    ('Body Frame Construction', 'G27-btn'): ['High-Strength Plastic', 'g10/FR4 Fiberglass', 'Carbon Fiber'],\n",
    "    ('Obstacle Sensors', 'G28-btn'): ['Front/Rear', '360° Basic', '360° Enhanced', '360° Advanced', '360° Best Available'],\n",
    "    ('Camera Stabilization Device', 'G29-btn'): ['Enhanced', 'Advanced', 'Best Available'],\n",
    "    ('Extra Performance Features', 'G31-btn'): ['5', '6', '7', '8', '9', '10', '11', '12', '13', '14', '15'],\n",
    "    ('Number of UAV Drone Models', 'G32-btn'): ['1', '2', '3', '4'],\n",
    "    ('Product R&D Expenditures', 'G34-btn'): ['35000', '40000', '45000', '50000']\n",
    "}\n",
    "\n",
    "# Calculate number of design options after implementing strategy A\n",
    "print(f\"Number of Action-Capture Camera Design Options (Strategy A): {calculate_number_of_possible_options(strategy_A_camera_year_6_dict)}\")\n",
    "print(f\"Number of UAV Drone Design Options (Strategy A): {calculate_number_of_possible_options(strategy_A_drone_year_6_dict)}\")"
   ]
  },
  {
   "cell_type": "markdown",
   "metadata": {},
   "source": [
    "### c. Helper functions for generating product design options\n",
    "Output: iterator_chunks for lazy evaluation"
   ]
  },
  {
   "cell_type": "code",
   "execution_count": 24,
   "metadata": {},
   "outputs": [],
   "source": [
    "# Define a function to split a list into chunks of a specified size\n",
    "def split_list_into_chunks(lst, chunk_size):\n",
    "    chunks = []\n",
    "    # Iterate over the list with a step of chunk_size\n",
    "    for i in range(0, len(lst), chunk_size):\n",
    "        # Slice the list from index 'i' to 'i + chunk_size' and append it to chunks\n",
    "        chunks.append(lst[i:i + chunk_size])\n",
    "    return chunks\n",
    "\n",
    "# Define a generator to yield chunks from an iterator\n",
    "def chunk_iterator(iterator, chunk_size):\n",
    "    \"\"\"Yield lists of items from the iterator, each with a maximum of chunk_size elements.\"\"\"\n",
    "    if type(iterator) == list:\n",
    "        iterator = (x for x in iterator)\n",
    "    while True:\n",
    "        chunk = itertools.islice(iterator, chunk_size)\n",
    "        if not chunk:\n",
    "            break\n",
    "        yield chunk\n",
    "\n",
    "def generate_combination_iterators(params_dict, num_combinations=None, num_chunks=5):\n",
    "    \"\"\"\n",
    "    Generates iterators for creating combinations of parameter options based on the provided parameter dictionary.\n",
    "    \n",
    "    Parameters:\n",
    "        params_dict (dict): Dictionary of possible parameter options.\n",
    "        num_comb_thousands (int): Number of combinations in thousands (default is 1000).\n",
    "        num_chunks (int): Number of chunks to divide the combinations into (default is 5).\n",
    "    \n",
    "    Returns:\n",
    "        iterator_chunks: <generator object chunk_iterator> (lazy evaluation)\n",
    "    \"\"\"\n",
    "    # Get the number of parameters and combinations\n",
    "    num_params = len(params_dict)\n",
    "\n",
    "    # Calculate total number of combinations\n",
    "    if num_combinations == None:\n",
    "        # Generate all possible parameter combinations for the given parameter dictionary\n",
    "        combinations_iterator = itertools.product(*params_dict.values())\n",
    "        num_combinations = calculate_number_of_possible_options(params_dict)\n",
    "        print(f\"Using all possible combinations: {num_combinations}\")\n",
    "    else:\n",
    "        # Randomly sample the combinations\n",
    "        random_combination_list = random_product(*params_dict.values(), repeat=num_combinations)\n",
    "        combinations_iterator = iter(split_list_into_chunks(random_combination_list, num_params))\n",
    "        print(f\"Selecting random number of combinations: {num_combinations}\")\n",
    "\n",
    "    # Create iterators for generating combinations in chunks\n",
    "    chunk_size = num_combinations // num_chunks + (1 if num_combinations % num_chunks else 0)\n",
    "    \n",
    "    # Divide the combinations into chunks\n",
    "    iterator_chunks = chunk_iterator(combinations_iterator, chunk_size)\n",
    "    print(f\"Creating {num_chunks} chunks of size {chunk_size} each.\")\n",
    "    \n",
    "    return iterator_chunks, chunk_size"
   ]
  },
  {
   "cell_type": "markdown",
   "metadata": {},
   "source": [
    "### d. Helper functions for retrieving desired information from the website"
   ]
  },
  {
   "cell_type": "markdown",
   "metadata": {},
   "source": [
    "#### i. Retrieving Projected Performance statistics\n",
    "**Scoring Measures**\n",
    "- Earnings per share (EPS): `earnings_per_share`\n",
    "- Return on equity (ROE): `return_on_equity`\n",
    "- Credit rating: `credit_rating`\n",
    "- Image rating: `image_rating`\n",
    "\n",
    "**Other Measures**\n",
    "- Net revenue: `net_revenue`\n",
    "- Net profit: `net_profit`\n",
    "- Net profit change: `net_profit_change`\n",
    "- Ending cash: `ending_cash`"
   ]
  },
  {
   "cell_type": "code",
   "execution_count": 8,
   "metadata": {},
   "outputs": [],
   "source": [
    "def retrieve_projected_performance_stats(driver):\n",
    "    \"\"\"\n",
    "    Retrieves projected performance statistics from the Glo-Bus simulation.\n",
    "    Parameters:\n",
    "        driver: Selenium WebDriver instance.\n",
    "    Returns:\n",
    "        tuple: Projected earnings per share, return on equity, credit rating, image rating,\n",
    "               net revenue, net profit, net profit change, ending cash.\n",
    "    \"\"\"\n",
    "    # Initialize variables to store the retrieved statistics\n",
    "    earning_per_share, return_on_equity, credit_rating, image_rating = None, None, None, None\n",
    "    net_revenue, net_profit, net_profit_change, ending_cash = None, None, None, None\n",
    "\n",
    "    # Retrieve projected performance statistics\n",
    "    try:\n",
    "        projected_performance = driver.find_element(By.CSS_SELECTOR, \"glo-projected-performance-top\")\n",
    "        scoring_measures = projected_performance.find_element(By.CSS_SELECTOR, \"table:nth-child(1)\")\n",
    "        earning_per_share = scoring_measures.find_element(By.CSS_SELECTOR, \"tr:nth-child(1) td:nth-child(2)\").text\n",
    "        return_on_equity = scoring_measures.find_element(By.CSS_SELECTOR, \"tr:nth-child(2)  td.score.text-center.ng-star-inserted span\").text\n",
    "        credit_rating = scoring_measures.find_element(By.CSS_SELECTOR, \"tr:nth-child(3) td:nth-child(2)\").text\n",
    "        image_rating = scoring_measures.find_element(By.CSS_SELECTOR, \"tr:nth-child(4) td:nth-child(2)\").text\n",
    "\n",
    "        other_measures = projected_performance.find_element(By.CSS_SELECTOR, \"table:nth-child(3)\")\n",
    "        net_revenue = other_measures.find_element(By.CSS_SELECTOR, \"tr:nth-child(1) td:nth-child(2)\").text\n",
    "        net_profit = other_measures.find_element(By.CSS_SELECTOR, \"tr:nth-child(2) td:nth-child(2)\").text\n",
    "        net_profit_change = other_measures.find_element(By.CSS_SELECTOR, \"tr:nth-child(2) td:nth-child(3)\").text\n",
    "        ending_cash = other_measures.find_element(By.CSS_SELECTOR, \"tr:nth-child(3) td:nth-child(2)\").text\n",
    "    except Exception as e:\n",
    "        logging.error(\"Error retrieving projected performance statistics: %s\", e)\n",
    "        earning_per_share, return_on_equity, credit_rating, image_rating = None, None, None, None\n",
    "        net_revenue, net_profit, net_profit_change, ending_cash = None, None, None, None\n",
    "\n",
    "    # Convert the retrieved statistics to appropriate data types\n",
    "    try:\n",
    "        earning_per_share = float(earning_per_share.replace('$', '').replace(',', ''))\n",
    "        return_on_equity = float(return_on_equity.replace('%', '').replace(',', ''))\n",
    "        # credit rating is a string, so no conversion needed\n",
    "        image_rating = int(image_rating)\n",
    "        net_revenue = int(net_revenue.replace(',', ''))\n",
    "        net_profit = int(net_profit.replace(',', ''))\n",
    "        net_profit_change = float(net_profit_change.replace('%', '').replace(',', ''))\n",
    "        ending_cash = int(ending_cash.replace(',', ''))\n",
    "    except Exception as e:\n",
    "        logging.error(\"Error converting projected performance statistics to appropriate data types: %s\", e)\n",
    "        earning_per_share, return_on_equity, credit_rating, image_rating = None, None, None, None\n",
    "        net_revenue, net_profit, net_profit_change, ending_cash = None, None, None, None\n",
    "\n",
    "    # Create a dictionary to store the statistics\n",
    "    stats_dict = {\n",
    "        'EPS': earning_per_share,\n",
    "        'ROE': return_on_equity,\n",
    "        'Credit Rating': credit_rating,\n",
    "        'Image Rating': image_rating,\n",
    "        'Net Revenue': net_revenue,\n",
    "        'Net Profit': net_profit,\n",
    "        'Net Profit Change': net_profit_change,\n",
    "        'Ending Cash': ending_cash\n",
    "    }\n",
    "\n",
    "    return stats_dict"
   ]
  },
  {
   "cell_type": "markdown",
   "metadata": {},
   "source": [
    "#### ii. Retrieving statistics from Product Design page\n",
    "- Product Quality Rating: `pq_rating`\n",
    "- Total Cost of Components and Features: `comp_n_features_cost`\n",
    "- Total Camera Production/Assembly Cost: `total_production_cost`\n",
    "- Projected Unit Assembly: `projected_unit_assembly`"
   ]
  },
  {
   "cell_type": "code",
   "execution_count": 9,
   "metadata": {},
   "outputs": [],
   "source": [
    "def retrieve_product_design_statistics(driver, product, min_pq_rating=0.0):\n",
    "    \"\"\"\n",
    "    Retrieves product design statistics from the Product Design page.\n",
    "    Parameters:\n",
    "        driver: Selenium WebDriver instance.\n",
    "        product: Product type ('ACC' or 'UAV').\n",
    "        min_pq_rating: Minimum PQ rating to check against.\n",
    "    Returns:\n",
    "        tuple: PQ rating, total component and features cost, total production cost, projected unit assembly.\n",
    "    \"\"\"\n",
    "    # Initialize variables to store the retrieved statistics\n",
    "    pq_rating, comp_n_features_cost, total_production_cost, projected_unit_assembly = None, None, None, None\n",
    "\n",
    "    if product == \"ACC\":\n",
    "        # Retrieve ACC PQ rating\n",
    "        try:\n",
    "            pq_rating = float(driver.find_element(By.CSS_SELECTOR, \".ac-calc-area1.perf-quality td.align-middle strong\").text)\n",
    "        except Exception as e:\n",
    "            logging.error(\"Error retrieving ACC PQ rating: %s\", e)\n",
    "            pq_rating = None\n",
    "        # Check if minimum ACC PQ rating is met\n",
    "        if pq_rating < min_pq_rating or pq_rating is None:\n",
    "            pass\n",
    "        else:\n",
    "            # Retrieve ACC production costs\n",
    "            production_costs = driver.find_element(By.CSS_SELECTOR, \"glo-dec-product-design .card.mb-2.ac-calc-area2\")\n",
    "            comp_n_features_cost = production_costs.find_element(By.CSS_SELECTOR, \"tr:nth-child(9) td:nth-child(2) strong\").text\n",
    "            total_production_cost = production_costs.find_element(By.CSS_SELECTOR, \"tr:nth-child(15) td:nth-child(2) strong\").text\n",
    "            projected_unit_assembly = driver.find_element(By.CSS_SELECTOR, \".ac-calc-area3 td:nth-child(4) span\").text\n",
    "\n",
    "    elif product == \"UAV\":\n",
    "        # Retrieve UAV PQ rating\n",
    "        try:\n",
    "            pq_rating = float(driver.find_element(By.CSS_SELECTOR, \".uav-calc-area1.perf-quality td.align-middle strong\").text)\n",
    "        except Exception as e:\n",
    "            logging.error(\"Error retrieving UAV PQ rating: %s\", e)\n",
    "            pq_rating = None\n",
    "        # Check if minimum UAV PQ rating is met\n",
    "        if pq_rating < min_pq_rating or pq_rating is None:\n",
    "            pass\n",
    "        else:\n",
    "            # Retrieve UAV production costs\n",
    "            production_costs = driver.find_element(By.CSS_SELECTOR, \"glo-dec-product-design .card.mb-2.uav-calc-area2\")\n",
    "            comp_n_features_cost = production_costs.find_element(By.CSS_SELECTOR, \"tr:nth-child(9) td:nth-child(2) strong\").text\n",
    "            total_production_cost = production_costs.find_element(By.CSS_SELECTOR, \"tr:nth-child(15) td:nth-child(2) strong\").text\n",
    "            projected_unit_assembly = driver.find_element(By.CSS_SELECTOR, \".uav-calc-area3 td:nth-child(4) span\").text\n",
    "        \n",
    "    else:\n",
    "        logging.error(\"Invalid product type specified. Use 'ACC' or 'UAV'.\")\n",
    "\n",
    "    # Convert the retrieved statistics to appropriate data types\n",
    "    if comp_n_features_cost is not None:\n",
    "        try:\n",
    "            comp_n_features_cost = int(comp_n_features_cost.replace(',', ''))\n",
    "            total_production_cost = int(total_production_cost.replace(',', ''))\n",
    "            projected_unit_assembly = float(projected_unit_assembly.replace(',', ''))\n",
    "        except Exception as e:\n",
    "            logging.error(\"Error converting product design statistics to appropriate data types: %s\", e)\n",
    "            pq_rating, comp_n_features_cost, total_production_cost, projected_unit_assembly = None, None, None, None\n",
    "\n",
    "    # Create a dictionary to store the results\n",
    "    pd_stats = {\n",
    "        \"PQ Rating\": pq_rating,\n",
    "        \"Total Component and Features Cost\": comp_n_features_cost,\n",
    "        \"Total Production Cost\": total_production_cost,\n",
    "        \"Projected Unit Assembly\": projected_unit_assembly\n",
    "    }\n",
    "        \n",
    "    return pd_stats"
   ]
  },
  {
   "cell_type": "markdown",
   "metadata": {},
   "source": [
    "### e. Helper functions for adjusting parameters and retrieving statistics"
   ]
  },
  {
   "cell_type": "markdown",
   "metadata": {},
   "source": [
    "#### i. Product-Design Parameters"
   ]
  },
  {
   "cell_type": "code",
   "execution_count": 10,
   "metadata": {},
   "outputs": [],
   "source": [
    "def simulate_product_design_parameters(driver, iterator_chunk, chunk_size, product, min_pq_rating=0.0):\n",
    "    \"\"\"\n",
    "    Sets the product design parameters in the Glo-Bus simulation for a given product.\n",
    "    This function iterates over the provided chunk of design parameters and applies them to the simulation.\n",
    "    It then scrapes the results and returns them as a DataFrame.\n",
    "    \"\"\"\n",
    "    if product == 'ACC':\n",
    "        param_ids = {\n",
    "            'G4-btn': 'Image Sensor Size',\n",
    "            'G5-btn': 'LCD Display Screen',\n",
    "            'G6-btn': 'Image Quality',\n",
    "            'G7-btn': 'Number of Photo Modes',\n",
    "            'G9-btn': 'Camera Housing',\n",
    "            'G10-btn': 'Editing / Sharing Capabilities',\n",
    "            'G11-btn': 'Included Accessories',\n",
    "            'G13-btn': 'Extra Performance Features',\n",
    "            'G14-btn': 'Number of Action Capture Camera Models',\n",
    "            'G16-btn': 'Product R&D Expenditures'\n",
    "        }\n",
    "    elif product == 'UAV':\n",
    "        param_ids = {\n",
    "            'G22-btn': 'Built-In Camera',\n",
    "            'G23-btn': 'GPS / WiFi / Bluetooth',\n",
    "            'G24-btn': 'Battery Pack',\n",
    "            'G25-btn': 'Number of Rotors',\n",
    "            'G26-btn': 'Rotor Performance / Flight Controller',\n",
    "            'G27-btn': 'Body Frame Construction',\n",
    "            'G28-btn': 'Obstacle Sensors',\n",
    "            'G29-btn': 'Camera Stabilization Device',\n",
    "            'G31-btn': 'Extra Performance Features',\n",
    "            'G32-btn': 'Number of UAV Drone Models',\n",
    "            'G34-btn': 'Product R&D Expenditures'\n",
    "        }\n",
    "    else:\n",
    "        raise ValueError(\"Invalid product type. Choose 'ACC' or 'UAV'.\")\n",
    "    \n",
    "    # Create an empty list to store the results\n",
    "    results = []\n",
    "    \n",
    "    for gen_object in tqdm(iterator_chunk, total=chunk_size, desc=f\"Simulating {product} Design Parameters\"):\n",
    "        # Check if the generator object is empty\n",
    "        if not gen_object:\n",
    "            logging.warning(\"Empty generator object encountered.\")\n",
    "            continue\n",
    "        # Iterate over the design parameters and their corresponding IDs\n",
    "        for key, value in zip(param_ids.keys(), gen_object):\n",
    "            try:\n",
    "                # Find the element by ID and select the option\n",
    "                element = driver.find_element(By.ID, key)\n",
    "                select = Select(element)\n",
    "                select.select_by_visible_text(value)\n",
    "            except Exception as e:\n",
    "                logging.error(\"Error selecting design parameter %s: %s\", key, e)\n",
    "                continue\n",
    "\n",
    "        # Retrieve product design statistics after setting the parameters\n",
    "        try: \n",
    "            pd_stats = retrieve_product_design_statistics(driver, product, min_pq_rating=0.0)\n",
    "        except Exception as e:\n",
    "            logging.error(\"Error retrieving product design statistics: %s\", e)\n",
    "        finally:\n",
    "            # If the PQ rating is below the minimum, skip this combination\n",
    "            if pd_stats['PQ Rating'] < min_pq_rating:\n",
    "                continue\n",
    "\n",
    "            # Retrieve projected performance statistics\n",
    "            performance_stats = retrieve_projected_performance_stats(driver)\n",
    "\n",
    "            # Append the design parameters and statistics to the list\n",
    "            results.append(dict(zip(param_ids.values(), gen_object)) | pd_stats | performance_stats)\n",
    "    \n",
    "    # Return the DataFrame containing the design parameters and statistics\n",
    "    return pd.DataFrame(results)"
   ]
  },
  {
   "cell_type": "markdown",
   "metadata": {},
   "source": [
    "## Selenium Helper Functions"
   ]
  },
  {
   "cell_type": "code",
   "execution_count": 20,
   "metadata": {},
   "outputs": [],
   "source": [
    "def create_edge_driver(driver_num):\n",
    "    \"\"\"Creates and returns a new Edge WebDriver instance with the specified options.\"\"\"\n",
    "    time.sleep(1 * (driver_num - 1))  # Stagger driver creation\n",
    "    service = Service(edge_driver_path)\n",
    "    driver = webdriver.Edge(service=service, options=edge_options)\n",
    "    driver.implicitly_wait(5)  # Set an implicit wait\n",
    "    logging.info(f\"Edge WebDriver {driver_num} created.\")\n",
    "    return driver\n",
    "\n",
    "def login_to_globus(driver, driver_num, user=GLOBUS_USER, password=GLOBUS_PW):\n",
    "    \"\"\"\n",
    "    Logs in to the Glo-Bus website using the provided driver and credentials.\n",
    "    Adjust the element selectors to match the actual site's login form.\n",
    "    \"\"\"\n",
    "    try:\n",
    "        driver.get(\"https://www.glo-bus.com/\")\n",
    "        \n",
    "        # Wait for the login button or form to load (update the selector as needed)\n",
    "        WebDriverWait(driver, 5).until(\n",
    "            EC.presence_of_element_located((By.ID, \"loginbutton\"))\n",
    "        )\n",
    "        \n",
    "        # Selectors for the username and password fields\n",
    "        username_field = driver.find_element(By.ID, \"acct_name\")\n",
    "        password_field = driver.find_element(By.ID, \"passwdInput\")\n",
    "        username_field.clear()\n",
    "        username_field.send_keys(user)\n",
    "        password_field.clear()\n",
    "        password_field.send_keys(password)\n",
    "        \n",
    "        # Click the login submit button\n",
    "        driver.find_element(By.ID, 'loginbutton').click()\n",
    "        \n",
    "        # Wait for a post-page-change element to confirm success\n",
    "        WebDriverWait(driver, 5).until(\n",
    "            EC.presence_of_element_located((By.CLASS_NAME, \"text-nowrap\"))\n",
    "        )\n",
    "        logging.info(f\"\\tDriver {driver_num}: Login successful.\")\n",
    "    except Exception as e:\n",
    "        logging.error(f\"\\tDriver {driver_num}: Error during login: %s\", e)\n",
    "        raise\n",
    "\n",
    "def go_to_decision_page(driver, driver_num, subsection):\n",
    "    \"\"\"\n",
    "    Navigates to the decision page after logging in.\n",
    "    Adjust the element selectors to match the actual site's structure.\n",
    "    \"\"\"\n",
    "    try:\n",
    "        driver.get(f'https://www.glo-bus.com/users/program21/decisions/{subsection}')\n",
    "\n",
    "        # Wait for a post-login element to confirm success\n",
    "        WebDriverWait(driver, 5).until(\n",
    "            EC.presence_of_element_located((By.CLASS_NAME, \"asidenav\"))\n",
    "        )\n",
    "        logging.info(f\"\\tDriver {driver_num}: Decision page loaded. Section: {subsection}.\")\n",
    "    except Exception as e:\n",
    "        logging.error(f\"\\tDriver {driver_num}: Error navigating to decision page: %s\", e)\n",
    "        driver.quit()\n",
    "        raise"
   ]
  },
  {
   "cell_type": "code",
   "execution_count": 12,
   "metadata": {},
   "outputs": [],
   "source": [
    "def task_manager(driver, driver_num, subsection, iterator_chunk, chunk_size):\n",
    "    \"\"\"\n",
    "    Manages the execution of a Selenium task.\n",
    "    This function is called by each thread to perform the task.\n",
    "    \"\"\"\n",
    "    try:\n",
    "        if subsection == 'product-design':\n",
    "            # Perform the product design task\n",
    "            df = simulate_product_design_parameters(driver, iterator_chunk, chunk_size, 'UAV', min_pq_rating=6.9)\n",
    "            return df\n",
    "    except Exception as e:\n",
    "        logging.error(f\"Error in task manager for driver {driver_num}: %s\", e)\n",
    "        return pd.DataFrame()  # Return an empty dataframe in case of error\n",
    "    finally:\n",
    "        # Close the driver after the task is done\n",
    "        driver.quit()\n",
    "        logging.info(f\"Edge WebDriver {driver_num} closed.\")\n",
    "\n",
    "def run_selenium_task(config):\n",
    "    \"\"\"\n",
    "    Creates a new driver, logs in, navigates to a decision page,\n",
    "    runs a placeholder task, and returns a dataframe.\n",
    "    \"\"\"\n",
    "    driver_num = config[\"driver_num\"]\n",
    "    subsection = config[\"subsection\"]\n",
    "    iterator_chunk = config[\"iterator_chunk\"]\n",
    "    chunk_size = config[\"chunk_size\"]\n",
    "    \n",
    "    # Create the driver outside the lock so that each thread can do this concurrently.\n",
    "    driver = create_edge_driver(driver_num)\n",
    "    \n",
    "    # Ensure that the login and navigation steps are done sequentially.\n",
    "    # with login_lock:\n",
    "    login_to_globus(driver, driver_num)\n",
    "    go_to_decision_page(driver, driver_num, subsection)\n",
    "    \n",
    "    try:\n",
    "        # Run the placeholder task and return its dataframe.\n",
    "        df = task_manager(driver, driver_num, subsection, iterator_chunk, chunk_size)\n",
    "        return df\n",
    "    except Exception as e:\n",
    "            logging.error(\"Error in task for driver %s: %s\", driver_num, e)\n",
    "            return pd.DataFrame()  # Return an empty dataframe in case of error\n",
    "    \n",
    "\n",
    "def run_multiple_selenium_tasks(task_configs):\n",
    "    \"\"\"\n",
    "    Opens multiple drivers in separate threads and executes tasks concurrently.\n",
    "    \n",
    "    Returns a combined dataframe from all tasks.\n",
    "    \"\"\"\n",
    "    results = []\n",
    "    \n",
    "    # Use ThreadPoolExecutor to collect return values easily.\n",
    "    with concurrent.futures.ThreadPoolExecutor(max_workers=len(task_configs)) as executor:\n",
    "        # Submit tasks and store futures\n",
    "        future_to_config = {executor.submit(run_selenium_task, config): config for config in task_configs}\n",
    "        for future in concurrent.futures.as_completed(future_to_config):\n",
    "            config = future_to_config[future]\n",
    "            try:\n",
    "                df = future.result()\n",
    "                results.append(df)\n",
    "            except Exception as e:\n",
    "                logging.error(\"Task for config %s generated an exception: %s\", config, e)\n",
    "    \n",
    "    combined_df = pd.concat(results, ignore_index=True)\n",
    "    return combined_df"
   ]
  },
  {
   "cell_type": "code",
   "execution_count": 25,
   "metadata": {},
   "outputs": [],
   "source": [
    "def create_task_configs(subsection, params_dict, num_combinations, num_chunks):\n",
    "    \"\"\"\n",
    "    Creates a list of task configurations for each driver.\n",
    "    Each configuration includes the driver number, subsection, iterator chunk, and chunk size.\n",
    "    \"\"\"\n",
    "    # Create task configurations\n",
    "    task_configs = []\n",
    "    iterator_chunks, chunk_size = generate_combination_iterators(params_dict, num_combinations, num_chunks)\n",
    "    \n",
    "    for driver_num in range(1, num_chunks + 1):\n",
    "        config = {\n",
    "            \"driver_num\": driver_num,\n",
    "            \"subsection\": subsection,\n",
    "            \"iterator_chunk\": next(iterator_chunks),\n",
    "            \"chunk_size\": chunk_size\n",
    "        }\n",
    "        task_configs.append(config)\n",
    "    \n",
    "    return task_configs"
   ]
  },
  {
   "cell_type": "code",
   "execution_count": 21,
   "metadata": {},
   "outputs": [
    {
     "name": "stdout",
     "output_type": "stream",
     "text": [
      "11\n",
      "Selecting random number of combinations: 100\n",
      "Creating 4 chunks of size 25 each.\n"
     ]
    },
    {
     "name": "stderr",
     "output_type": "stream",
     "text": [
      "INFO:root:Edge WebDriver 1 created.\n",
      "INFO:root:\tDriver 1: Login successful.\n",
      "INFO:root:Edge WebDriver 2 created.\n",
      "INFO:root:Edge WebDriver 3 created.\n",
      "INFO:root:\tDriver 1: Decision page loaded. Section: product-design.\n"
     ]
    },
    {
     "data": {
      "application/vnd.jupyter.widget-view+json": {
       "model_id": "53ae0a9c095a4ffcad2d6da0d8efea19",
       "version_major": 2,
       "version_minor": 0
      },
      "text/plain": [
       "Simulating UAV Design Parameters:   0%|          | 0/25 [00:00<?, ?it/s]"
      ]
     },
     "metadata": {},
     "output_type": "display_data"
    },
    {
     "name": "stderr",
     "output_type": "stream",
     "text": [
      "INFO:root:Edge WebDriver 4 created.\n",
      "INFO:root:\tDriver 2: Login successful.\n",
      "INFO:root:\tDriver 3: Login successful.\n",
      "INFO:root:\tDriver 2: Decision page loaded. Section: product-design.\n"
     ]
    },
    {
     "data": {
      "application/vnd.jupyter.widget-view+json": {
       "model_id": "0ac89ab5f9f14fc297e66ff6dabc2961",
       "version_major": 2,
       "version_minor": 0
      },
      "text/plain": [
       "Simulating UAV Design Parameters:   0%|          | 0/25 [00:00<?, ?it/s]"
      ]
     },
     "metadata": {},
     "output_type": "display_data"
    },
    {
     "name": "stderr",
     "output_type": "stream",
     "text": [
      "INFO:root:\tDriver 4: Login successful.\n",
      "INFO:root:\tDriver 3: Decision page loaded. Section: product-design.\n"
     ]
    },
    {
     "data": {
      "application/vnd.jupyter.widget-view+json": {
       "model_id": "ea55d992d9b1419998e3ae7f6c8d0508",
       "version_major": 2,
       "version_minor": 0
      },
      "text/plain": [
       "Simulating UAV Design Parameters:   0%|          | 0/25 [00:00<?, ?it/s]"
      ]
     },
     "metadata": {},
     "output_type": "display_data"
    },
    {
     "name": "stderr",
     "output_type": "stream",
     "text": [
      "INFO:root:\tDriver 4: Decision page loaded. Section: product-design.\n"
     ]
    },
    {
     "data": {
      "application/vnd.jupyter.widget-view+json": {
       "model_id": "8f58ad0ac4114a01a78bfc04c8506e15",
       "version_major": 2,
       "version_minor": 0
      },
      "text/plain": [
       "Simulating UAV Design Parameters:   0%|          | 0/25 [00:00<?, ?it/s]"
      ]
     },
     "metadata": {},
     "output_type": "display_data"
    },
    {
     "name": "stderr",
     "output_type": "stream",
     "text": [
      "INFO:root:Edge WebDriver 1 closed.\n",
      "INFO:root:Edge WebDriver 2 closed.\n",
      "INFO:root:Edge WebDriver 3 closed.\n",
      "INFO:root:Edge WebDriver 4 closed.\n"
     ]
    }
   ],
   "source": [
    "task_configs = create_task_configs('product-design', strategy_A_drone_year_6_dict, 100, 4)\n",
    "\n",
    "# Run the tasks and collect results\n",
    "results_df = run_multiple_selenium_tasks(task_configs)"
   ]
  },
  {
   "cell_type": "markdown",
   "metadata": {},
   "source": [
    "## Test functions"
   ]
  },
  {
   "cell_type": "code",
   "execution_count": null,
   "metadata": {},
   "outputs": [],
   "source": [
    "# Create the driver outside the lock so that each thread can do this concurrently.\n",
    "driver_num = 1\n",
    "driver = create_edge_driver(driver_num)\n",
    "\n",
    "# Ensure that the login and navigation steps are done sequentially.\n",
    "# with login_lock:\n",
    "login_to_globus(driver, driver_num)\n",
    "go_to_decision_page(driver, driver_num, \"product-design\")"
   ]
  },
  {
   "cell_type": "code",
   "execution_count": null,
   "metadata": {},
   "outputs": [],
   "source": [
    "def scrape_PD_results(driver, product):\n",
    "    if product == 'action_camera':\n",
    "        pq_rating_css = 'body > glo-app > section > div > div:nth-child(2) > glo-decisions > div > div.m-3 > glo-dec-product-design > div > div:nth-child(1) > div.card.mb-2.ac-calc-area1.perf-quality > div > table > tbody > tr > td.align-middle > div > span:nth-child(1) > strong'\n",
    "        cf_cost_per_unit_css = 'body > glo-app > section > div > div:nth-child(2) > glo-decisions > div > div.m-3 > glo-dec-product-design > div > div:nth-child(1) > div.card.mb-2.ac-calc-area2 > div > table > tbody > tr:nth-child(9) > td:nth-child(3) > div > span:nth-child(2) > strong'\n",
    "        pa_cost_per_unit_css = 'body > glo-app > section > div > div:nth-child(2) > glo-decisions > div > div.m-3 > glo-dec-product-design > div > div:nth-child(1) > div.card.mb-2.ac-calc-area2 > div > table > tbody > tr:nth-child(15) > td:nth-child(3) > div > span:nth-child(2) > strong'\n",
    "\n",
    "    elif product == 'drone':\n",
    "        pq_rating_css = 'body > glo-app > section > div > div:nth-child(2) > glo-decisions > div > div.m-3 > glo-dec-product-design > div > div:nth-child(2) > div.card.mb-2.uav-calc-area1.perf-quality > div > table > tbody > tr > td.align-middle > div > span:nth-child(1) > strong'\n",
    "        cf_cost_per_unit_css = 'body > glo-app > section > div > div:nth-child(2) > glo-decisions > div > div.m-3 > glo-dec-product-design > div > div:nth-child(2) > div.card.mb-2.uav-calc-area2 > div > table > tbody > tr:nth-child(9) > td:nth-child(3) > div > span:nth-child(2) > strong'\n",
    "        pa_cost_per_unit_css = 'body > glo-app > section > div > div:nth-child(2) > glo-decisions > div > div.m-3 > glo-dec-product-design > div > div:nth-child(2) > div.card.mb-2.uav-calc-area2 > div > table > tbody > tr:nth-child(15) > td:nth-child(3) > div > span:nth-child(2) > strong'\n",
    "    \n",
    "    net_profit_css = 'body > glo-app > section > div > div:nth-child(2) > glo-decisions > div > glo-projected-performance-top > div > div > div.col-12.d-flex.justify-content-evenly.align-items-start > table:nth-child(3) > tbody > tr:nth-child(2) > td:nth-child(2)'\n",
    "\n",
    "    try:\n",
    "        # Wait for the page to load\n",
    "        WebDriverWait(driver, 1).until(EC.presence_of_element_located((By.CSS_SELECTOR, net_profit_css)))\n",
    "\n",
    "        pq_rating = driver.find_element(By.CSS_SELECTOR, pq_rating_css).text\n",
    "        cf_cost_per_unit = driver.find_element(By.CSS_SELECTOR, cf_cost_per_unit_css).text\n",
    "        pa_cost_per_unit = driver.find_element(By.CSS_SELECTOR, pa_cost_per_unit_css).text\n",
    "        net_profit = driver.find_element(By.CSS_SELECTOR, net_profit_css).text\n",
    "\n",
    "    except Exception as e:\n",
    "        logging.error(f\"Error retrieving Performance Statistics for{product}: {e}\")\n",
    "        pq_rating = None\n",
    "        cf_cost_per_unit = None\n",
    "        pa_cost_per_unit = None\n",
    "        net_profit = None\n",
    "\n",
    "    return pq_rating, cf_cost_per_unit, pa_cost_per_unit, net_profit\n",
    "\n",
    "# Use selenium to change parameters in the product design page\n",
    "# Each set of parameters is a row in the DataFrame\n",
    "# For each row, we will:\n",
    "# 1. Set the parameters\n",
    "# 2. Read the PQ Rating and PA Cost per Unit\n",
    "# 3. Save the results to a new row in the dataframe\n",
    "\n",
    "def set_design_parameters(iterator_chunk, driver, param_id):\n",
    "    \"\"\"\n",
    "    Sets the design parameters for each row in the iterator_chunk and scrapes the results.\n",
    "    \"\"\"\n",
    "    # Convert the iterator chunk to a list\n",
    "    chunk = [*iterator_chunk]\n",
    "\n",
    "    # List to store results for each row\n",
    "    results = []\n",
    "\n",
    "    # Iterate over each row in the chunk\n",
    "    for _, row in tqdm(chunk.iterrows(), total=len(chunk), desc='Simulating Design Parameters'):\n",
    "        try:\n",
    "            # Set the design parameters\n",
    "            for key, value in row.items():\n",
    "                # Update the design parameters\n",
    "                element = driver.find_element(By.ID, key)\n",
    "                select = Select(element)\n",
    "                select.select_by_visible_text(value)\n",
    "\n",
    "            # Scrape the results\n",
    "            pq_rating, cf_cost_per_unit, pa_cost_per_unit, net_profit = scrape_PD_results(driver, product)\n",
    "            \n",
    "            # Append the results as a dictionary\n",
    "            results.append({\n",
    "                'Performance / Quality Rating': pq_rating,\n",
    "                'Component/Feature Cost per Unit': cf_cost_per_unit,\n",
    "                'Production Cost per Unit': pa_cost_per_unit,\n",
    "                'Net Profit': net_profit\n",
    "            })\n",
    "        except Exception as e:\n",
    "            logging.error(\"Error during scraping: %s\", e)\n",
    "            # Append a row with NaN values in case of an error\n",
    "            results.append({\n",
    "                'Performance / Quality Rating': None,\n",
    "                'Component/Feature Cost per Unit': None,\n",
    "                'Production Cost per Unit': None,\n",
    "                'Net Profit': None\n",
    "            })\n",
    "\n",
    "    # Create a DataFrame from the results and concatenate it with the original chunk\n",
    "    results_df = pd.DataFrame(results, index=chunk.index)\n",
    "    return pd.concat([chunk, results_df], axis=1)"
   ]
  },
  {
   "cell_type": "markdown",
   "metadata": {},
   "source": [
    "## Random Options Sampling"
   ]
  },
  {
   "cell_type": "markdown",
   "metadata": {},
   "source": [
    "### for UAV Drone"
   ]
  },
  {
   "cell_type": "code",
   "execution_count": null,
   "metadata": {},
   "outputs": [],
   "source": [
    "strat_A_rand_drone_options_df = create_n_random_combinations(strategy_A_drone_year_6_dict, num_combinations=2000)\n",
    "strat_A_rand_drone_options_df.head()"
   ]
  },
  {
   "cell_type": "code",
   "execution_count": null,
   "metadata": {},
   "outputs": [],
   "source": [
    "# Example usage for small set of options\n",
    "strat_A_rand_camera_options_df_results = scrape_pq_and_cost_mini_parallel_threads(strat_A_rand_drone_options_df, 'drone', chunk_size=200)"
   ]
  },
  {
   "cell_type": "code",
   "execution_count": null,
   "metadata": {},
   "outputs": [],
   "source": [
    "strat_A_rand_camera_options_df_results"
   ]
  },
  {
   "cell_type": "code",
   "execution_count": null,
   "metadata": {},
   "outputs": [],
   "source": [
    "# Calculate statistics of interest\n",
    "def calculate_result_ratios(results_df):\n",
    "    \"\"\"\n",
    "    Calculates the Performance / Quality Rating Efficiency and Fixed Cost Ratio based on the provided results DataFrame.\n",
    "    \"\"\"\n",
    "    # Change the data type of the columns to float\n",
    "    # Deal with commas in the data\n",
    "    result_columns = ['Performance / Quality Rating', 'Component/Feature Cost per Unit', 'Production Cost per Unit', 'Net Profit']\n",
    "    results_df[result_columns] = results_df[result_columns].replace(',', '', regex=True)\n",
    "    results_df[result_columns] = results_df[result_columns].astype(float)\n",
    "\n",
    "    # Calculate the Performance / Quality Rating Efficiency and Fixed Cost Ratio\n",
    "    results_df['Rating_Efficiency'] = results_df['Performance / Quality Rating'] / results_df['Production Cost per Unit']\n",
    "    results_df['Fixed Cost Ratio'] = results_df['Component/Feature Cost per Unit'] / results_df['Production Cost per Unit']\n",
    "\n",
    "    return results_df"
   ]
  },
  {
   "cell_type": "code",
   "execution_count": null,
   "metadata": {},
   "outputs": [],
   "source": [
    "strat_A_rand_camera_options_df_results = calculate_result_ratios(strat_A_rand_camera_options_df_results)\n",
    "\n",
    "strat_A_rand_camera_options_df_results.sort_values(by='Rating_Efficiency', ascending=False).head(20)"
   ]
  },
  {
   "cell_type": "markdown",
   "metadata": {},
   "source": [
    "## Generate All Options"
   ]
  },
  {
   "cell_type": "markdown",
   "metadata": {},
   "source": [
    "### Small Option Space - Less than 10 million"
   ]
  },
  {
   "cell_type": "code",
   "execution_count": null,
   "metadata": {},
   "outputs": [],
   "source": [
    "# Create a list of all possible design combinations for the action-capture camera\n",
    "def generate_dataframe_from_design_dict(design_dict, mode):\n",
    "    \"\"\"\n",
    "    Generates a DataFrame with all possible design combinations based on the given design dictionary.\n",
    "    \"\"\"\n",
    "    if mode == 'polars':\n",
    "        # Define the schema for the Polar DataFrame\n",
    "        schema = {key[1]: str for key in design_dict.keys()}\n",
    "\n",
    "        # Create a list of all possible design combinations (use generator for memory efficiency)\n",
    "        design_combinations = itertools.product(*design_dict.values())\n",
    "\n",
    "        # Create a polars DataFrame with the design combinations\n",
    "        df = pl.DataFrame(design_combinations, schema=schema)\n",
    "\n",
    "        return df\n",
    "    elif mode == 'pandas':\n",
    "        # Define columns for the pandas DataFrame\n",
    "        columns = [key[1] for key in design_dict.keys()]\n",
    "\n",
    "        # Create a list of all possible design combinations (use generator for memory efficiency)\n",
    "        design_combinations = itertools.product(*design_dict.values())\n",
    "\n",
    "        # Create a pandas DataFrame with the design combinations\n",
    "        df = pd.DataFrame(design_combinations, columns=columns)\n",
    "\n",
    "        return df"
   ]
  },
  {
   "cell_type": "code",
   "execution_count": null,
   "metadata": {},
   "outputs": [],
   "source": [
    "strat_A_camera_options_df = generate_dataframe_from_design_dict(strategy_A_camera_year_6_dict, mode='pandas')\n",
    "strat_A_drone_options_df = generate_dataframe_from_design_dict(strategy_A_drone_year_6_dict, mode='pandas')"
   ]
  },
  {
   "cell_type": "code",
   "execution_count": null,
   "metadata": {},
   "outputs": [],
   "source": [
    "strat_A_camera_options_df"
   ]
  },
  {
   "cell_type": "markdown",
   "metadata": {},
   "source": [
    "### Large Option Space - Greater than 10 million"
   ]
  },
  {
   "cell_type": "code",
   "execution_count": null,
   "metadata": {},
   "outputs": [],
   "source": [
    "def generate_parquet_from_design_dict(design_dict, product, output_file, npartitions=1000):\n",
    "    \"\"\"\n",
    "    Generates a Parquet file containing all combinations of design options from the given design dictionary.\n",
    "\n",
    "    Parameters:\n",
    "    - design_dict (dict): Dictionary where keys are tuples (column_name, element_id) and values are lists of options.\n",
    "    - product (str): Name of the product (used to locate the directory).\n",
    "    - output_file (str): Path to the output Parquet file.\n",
    "    - npartitions (int): Number of partitions for the Dask Bag.\n",
    "    \"\"\"\n",
    "    # Define save directory\n",
    "    save_dir = f\"product_design_query/{product}/\" + output_file\n",
    "\n",
    "    # Extract column names (using the first element of each key) and lists of values\n",
    "    cols = [key[0] for key in design_dict.keys()]\n",
    "    values_lists = list(design_dict.values())\n",
    "\n",
    "    # Create a lazy iterator for the Cartesian product of all design options\n",
    "    all_combinations = itertools.product(*values_lists)\n",
    "    print(all_combinations)\n",
    "\n",
    "    # Build a Dask Bag from the iterator\n",
    "    bag = db.from_sequence(all_combinations, npartitions=npartitions)\n",
    "    print(\"Dask bag created\")\n",
    "\n",
    "    # Convert the Bag to a Dask DataFrame with the proper column names\n",
    "    ddf = bag.to_dataframe(columns=cols)\n",
    "    # print first 5 rows\n",
    "    print(ddf.head())\n",
    "\n",
    "    # Save the lazy Dask DataFrame as a Parquet file\n",
    "    ddf.to_parquet(save_dir, write_index=False)\n",
    "\n",
    "# Example usage\n",
    "generate_parquet_from_design_dict(uav_drone_design_dict, 'drone', \"all_combinations.parquet\", npartitions=163)"
   ]
  },
  {
   "cell_type": "code",
   "execution_count": null,
   "metadata": {},
   "outputs": [],
   "source": [
    "generate_parquet_from_design_dict(action_capture_camera_design_dict, 'camera', \"all_combinations.parquet\", npartitions=5369)"
   ]
  },
  {
   "cell_type": "code",
   "execution_count": null,
   "metadata": {},
   "outputs": [],
   "source": [
    "driver = create_edge_driver()\n",
    "login_to_globus(driver)\n",
    "go_to_decision_page(driver, 'product-design')\n",
    "driver.quit()"
   ]
  },
  {
   "cell_type": "code",
   "execution_count": null,
   "metadata": {},
   "outputs": [],
   "source": [
    "def generate_chunks(value_lists, columns, chunk_size):\n",
    "    \"\"\"\n",
    "    Generator function that yields DataFrame chunks of the Cartesian product.\n",
    "    \"\"\"\n",
    "    # Create an iterator for all possible combinations\n",
    "    iterator = itertools.product(*value_lists)\n",
    "    while True:\n",
    "        # Grab the next chunk_size combinations\n",
    "        chunk = list(itertools.islice(iterator, chunk_size))\n",
    "        if not chunk:\n",
    "            break\n",
    "        yield pd.DataFrame(chunk, columns=columns)\n",
    "\n",
    "def generate_design_combinations(product, design_dir_name, design_dict, chunk_size=1000000):\n",
    "    \"\"\"\n",
    "    Returns a list of dictionaries, where each dictionary represents a unique design combination.\n",
    "    \"\"\"\n",
    "    # Extract column names (first element of each key tuple) and value lists\n",
    "    columns = [key[1] for key in design_dict.keys()]\n",
    "    value_lists = list(design_dict.values())\n",
    "\n",
    "    # Wrap each chunk with dask.delayed so Dask can build a lazy graph\n",
    "    delayed_dfs = [delayed(chunk_df) for chunk_df in tqdm(generate_chunks(value_lists, columns, chunk_size))]\n",
    "\n",
    "    # Create a Dask DataFrame from the delayed chunks\n",
    "    ddf = dd.from_delayed(delayed_dfs)\n",
    "\n",
    "    # Write the Dask DataFrame to a Parquet file.\n",
    "    # This will write the data in partitions (chunks) to the '{product}/{design_dir_name}.parquet' directory.\n",
    "    ddf.to_parquet(f'product_design_query/{product}/{design_dir_name}.parquet', write_index=False)\n",
    "\n",
    "    print(f'Finished generating design combinations for {product} using {design_dir_name}.')"
   ]
  },
  {
   "cell_type": "code",
   "execution_count": null,
   "metadata": {},
   "outputs": [],
   "source": [
    "generate_design_combinations('drone', 'all_combinations', uav_drone_design_dict)"
   ]
  },
  {
   "cell_type": "markdown",
   "metadata": {},
   "source": [
    "## Analyze Different Product Design Options"
   ]
  },
  {
   "cell_type": "code",
   "execution_count": null,
   "metadata": {},
   "outputs": [],
   "source": [
    "# read in first 5 rows of the generated parquet file\n",
    "ddf = dd.read_parquet('product_design_query/drone/all_combinations.parquet')\n",
    "print(ddf.head())"
   ]
  },
  {
   "cell_type": "code",
   "execution_count": null,
   "metadata": {},
   "outputs": [],
   "source": [
    "\n",
    "\n",
    "# Create a function to scrape the performance quality rating and production cost per unit for each design combination\n",
    "def scrape_performance_quality_and_cost(product, design_dir_name):\n",
    "    \"\"\"\n",
    "    Scrapes the performance quality rating and production cost per unit for each design combination.\n",
    "    \"\"\"\n",
    "    # Load the Dask DataFrame from the Parquet file\n",
    "    ddf = dd.read_parquet(f'product_design_query/{product}/{design_dir_name}.parquet')\n",
    "\n",
    "    # List to store updated delayed partitions\n",
    "    updated_partitions = []\n",
    "\n",
    "    # Iterate over each chunk of the Dask DataFrame\n",
    "    for i, delayed_obj in tqdm(enumerate(ddf.to_delayed()), desc='Processing Chunks', total=ddf.npartitions):\n",
    "        try:\n",
    "            # Create a new Edge WebDriver instance for each chunk\n",
    "            driver = create_edge_driver()\n",
    "\n",
    "            # Login to the Glo-Bus website\n",
    "            login_to_globus(driver)\n",
    "\n",
    "            # Navigate to the product design page\n",
    "            go_to_decision_page(driver, 'product-design')\n",
    "\n",
    "            # Compute the partition to get a pandas DataFrame\n",
    "            df_partition = delayed_obj.compute()\n",
    "\n",
    "            # Replace chunk with updated version\n",
    "            updated_df = set_design_parameters(df_partition, driver)\n",
    "\n",
    "            # Wrap the updated DataFrame back into a delayed object\n",
    "            updated_delayed = delayed(updated_df)\n",
    "            updated_partitions.append(updated_delayed)\n",
    "            \n",
    "        except Exception as e:\n",
    "            logging.error(f\"Error processing chunk {i}: {e}\")\n",
    "        finally:\n",
    "            # Quit the WebDriver instance\n",
    "            driver.quit()\n",
    "            logging.info(\"WebDriver instance closed.\")\n",
    "\n",
    "    # Reconstruct a Dask DataFrame from the list of delayed partitions\n",
    "    updated_ddf = dd.from_delayed(updated_partitions)\n",
    "\n",
    "    # Write the updated Dask DataFrame to a new Parquet file\n",
    "    updated_ddf.to_parquet(f'product_design_query/{product}/{design_dir_name}_results.parquet', write_index=False)\n",
    "    logging.info(f\"Finished scraping performance quality and cost for {product} using {design_dir_name}.\")"
   ]
  },
  {
   "cell_type": "markdown",
   "metadata": {},
   "source": [
    "### Simulate Action Capture Camera"
   ]
  },
  {
   "cell_type": "code",
   "execution_count": null,
   "metadata": {},
   "outputs": [],
   "source": [
    "def scrape_pq_and_cost_mini(df, product):\n",
    "    try: \n",
    "        # Create a new Edge WebDriver instance for each chunk\n",
    "        driver = create_edge_driver()\n",
    "\n",
    "        # Login to the Glo-Bus website\n",
    "        login_to_globus(driver)\n",
    "\n",
    "        # Navigate to the product design page\n",
    "        go_to_decision_page(driver, 'product-design')\n",
    "\n",
    "        # Iterate over each row in the Polars DataFrame\n",
    "        updated_df = set_design_parameters(df, driver, product)\n",
    "    except Exception as e:\n",
    "        logging.error(f\"Error while scraping {product}: {e}\")\n",
    "    finally:\n",
    "        # Quit the WebDriver instance\n",
    "        driver.quit()\n",
    "        logging.info(\"WebDriver instance closed.\")\n",
    "\n",
    "    return updated_df"
   ]
  },
  {
   "cell_type": "markdown",
   "metadata": {},
   "source": [
    "## Multithread Processing"
   ]
  },
  {
   "cell_type": "code",
   "execution_count": null,
   "metadata": {},
   "outputs": [],
   "source": [
    "def process_chunk_thread(chunk_df, product, driver):\n",
    "    \"\"\"\n",
    "    Process a chunk of the DataFrame using a thread.\n",
    "    Each thread creates its own WebDriver instance.\n",
    "    \"\"\"\n",
    "    try:\n",
    "        go_to_decision_page(driver, 'product-design')\n",
    "        updated_chunk = set_design_parameters(chunk_df, driver, product)\n",
    "    except Exception as e:\n",
    "        logging.error(f\"Error processing chunk for {product}: {e}\")\n",
    "        updated_chunk = chunk_df\n",
    "    return updated_chunk"
   ]
  },
  {
   "cell_type": "code",
   "execution_count": null,
   "metadata": {},
   "outputs": [],
   "source": [
    "import concurrent.futures\n",
    "from contextlib import contextmanager\n",
    "\n",
    "@contextmanager\n",
    "def scrape_pq_and_cost_mini_parallel_threads(df, product, chunk_size=1000):\n",
    "    \"\"\"\n",
    "    Splits the Polars DataFrame into chunks and processes each chunk in parallel using threads.\n",
    "    This avoids the pickling issues common with multiprocessing in Jupyter notebooks.\n",
    "    \"\"\"\n",
    "    num_rows = df.shape[0]\n",
    "    # Split DataFrame into chunks\n",
    "    chunks = [df[i:i+chunk_size] for i in range(0, num_rows, chunk_size)]\n",
    "    \n",
    "    try:\n",
    "        # Create a new Edge WebDriver instance for each thread\n",
    "        driver = create_edge_driver()\n",
    "\n",
    "        # Login to the Glo-Bus website\n",
    "        login_to_globus(driver)\n",
    "\n",
    "        updated_chunks = []\n",
    "        with concurrent.futures.ThreadPoolExecutor() as executor:\n",
    "            futures = [executor.submit(process_chunk_thread, chunk, product, driver) for chunk in chunks]\n",
    "            for future in concurrent.futures.as_completed(futures):\n",
    "                updated_chunks.append(future.result())\n",
    "    except Exception as e:\n",
    "        logging.error(f\"Error while scraping {product} via Multi-thread: {e}\")\n",
    "    finally:\n",
    "        # Quit the WebDriver instance\n",
    "        driver.quit()\n",
    "        logging.info(\"WebDriver instance closed.\")\n",
    "    \n",
    "    updated_df = pd.concat(updated_chunks)\n",
    "    return updated_df"
   ]
  },
  {
   "cell_type": "code",
   "execution_count": null,
   "metadata": {},
   "outputs": [],
   "source": [
    "# Example usage for small set of options\n",
    "strat_A_drone_options_df_results = scrape_pq_and_cost_mini(strat_A_drone_options_df, 'drone')"
   ]
  },
  {
   "cell_type": "markdown",
   "metadata": {},
   "source": [
    "### Simulate UAV Drone"
   ]
  },
  {
   "cell_type": "code",
   "execution_count": null,
   "metadata": {},
   "outputs": [],
   "source": [
    "import itertools\n",
    "import pandas as pd\n",
    "import pyarrow as pa\n",
    "import pyarrow.parquet as pq\n",
    "import gc\n",
    "\n",
    "# Set a chunk size that suits your system's memory. Adjust as necessary.\n",
    "def generate_chunks(value_lists, columns, chunk_size):\n",
    "    \"\"\"\n",
    "    Generator function that yields DataFrame chunks of the Cartesian product.\n",
    "    \"\"\"\n",
    "    # Create an iterator for all possible combinations\n",
    "    iterator = itertools.product(*value_lists)\n",
    "    while True:\n",
    "        # Grab the next chunk_size combinations\n",
    "        chunk = list(itertools.islice(iterator, chunk_size))\n",
    "        if not chunk:\n",
    "            break\n",
    "        yield pd.DataFrame(chunk, columns=columns)\n",
    "\n",
    "def generate_design_combinations_v2(product, design_dict, chunk_size=10000000):\n",
    "\n",
    "    # Extract column names (from the first element of each key) and lists of options\n",
    "    columns = [key[0] for key in design_dict.keys()]\n",
    "    value_lists = list(design_dict.values())\n",
    "\n",
    "    # Process each chunk one at a time\n",
    "    for i, df_chunk in tqdm(enumerate(generate_chunks(value_lists, columns, chunk_size))):\n",
    "        # Convert the chunk to a PyArrow Table\n",
    "        table = pa.Table.from_pandas(df_chunk)\n",
    "        # Write the table to a Parquet file (each chunk in its own file)\n",
    "        pq.write_table(table, f\"product_design_query/{product}/all_combinations/chunk_{i}.parquet\")\n",
    "        \n",
    "        # Clear the DataFrame from memory and trigger garbage collection\n",
    "        del df_chunk\n",
    "        gc.collect()\n",
    "        \n",
    "        # print(f\"Chunk {i} written and memory cleared.\")"
   ]
  },
  {
   "cell_type": "code",
   "execution_count": null,
   "metadata": {},
   "outputs": [],
   "source": [
    "generate_design_combinations_v2('camera', action_capture_camera_design_dict)"
   ]
  },
  {
   "cell_type": "code",
   "execution_count": null,
   "metadata": {},
   "outputs": [],
   "source": [
    "driver = create_edge_driver()\n",
    "login_to_globus(driver)\n",
    "go_to_decision_page(driver, 'product-design')\n",
    "driver.quit()"
   ]
  },
  {
   "cell_type": "code",
   "execution_count": null,
   "metadata": {},
   "outputs": [],
   "source": [
    "# Read in the Parquet file as a Dask DataFrame\n",
    "ddf = dd.read_parquet('product_design_query/drone/all_combinations.parquet')\n",
    "\n",
    "# Choose only first 100 rows for testing\n",
    "ddf_test = ddf.head(100)"
   ]
  },
  {
   "cell_type": "code",
   "execution_count": null,
   "metadata": {},
   "outputs": [],
   "source": [
    "def click_resume_button():\n",
    "    # Resume 버튼 클릭\n",
    "    resume_button_xpath = '/html/body/glo-app/section/glo-keep-alive/div/div/div/div[3]/button'\n",
    "    if driver.find_element(By.XPATH, resume_button_xpath).is_displayed():\n",
    "        driver.find_element(By.XPATH, resume_button_xpath).click()\n",
    "    else:\n",
    "        pass"
   ]
  },
  {
   "cell_type": "code",
   "execution_count": null,
   "metadata": {},
   "outputs": [],
   "source": [
    "click_resume_button()"
   ]
  },
  {
   "cell_type": "code",
   "execution_count": null,
   "metadata": {},
   "outputs": [],
   "source": [
    "driver.quit()"
   ]
  }
 ],
 "metadata": {
  "kernelspec": {
   "display_name": "WebCrawling_3.11",
   "language": "python",
   "name": "python3"
  },
  "language_info": {
   "codemirror_mode": {
    "name": "ipython",
    "version": 3
   },
   "file_extension": ".py",
   "mimetype": "text/x-python",
   "name": "python",
   "nbconvert_exporter": "python",
   "pygments_lexer": "ipython3",
   "version": "3.11.11"
  }
 },
 "nbformat": 4,
 "nbformat_minor": 2
}
